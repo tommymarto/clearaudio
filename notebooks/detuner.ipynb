{
 "cells": [
  {
   "cell_type": "code",
   "execution_count": 1,
   "metadata": {},
   "outputs": [
    {
     "name": "stdout",
     "output_type": "stream",
     "text": [
      "/home/kikohs/work/clearaudio\n"
     ]
    }
   ],
   "source": [
    "cd .."
   ]
  },
  {
   "cell_type": "code",
   "execution_count": 2,
   "metadata": {},
   "outputs": [],
   "source": [
    "%load_ext autoreload\n",
    "%autoreload 2\n",
    "\n"
   ]
  },
  {
   "cell_type": "code",
   "execution_count": 3,
   "metadata": {},
   "outputs": [
    {
     "name": "stderr",
     "output_type": "stream",
     "text": [
      "/home/kikohs/.cache/pypoetry/virtualenvs/clearaudio-XI8_gnIE-py3.8/lib/python3.8/site-packages/tqdm/auto.py:22: TqdmWarning: IProgress not found. Please update jupyter and ipywidgets. See https://ipywidgets.readthedocs.io/en/stable/user_install.html\n",
      "  from .autonotebook import tqdm as notebook_tqdm\n"
     ]
    }
   ],
   "source": [
    "import io\n",
    "import logging\n",
    "import os\n",
    "import matplotlib\n",
    "import matplotlib.pyplot as plt\n",
    "\n",
    "import torch\n",
    "import torchaudio\n",
    "import librosa\n",
    "import librosa.display\n",
    "import time\n",
    "from pathlib import Path\n",
    "\n",
    "from hydra import compose, initialize_config_dir\n",
    "from omegaconf import DictConfig, open_dict  \n",
    "from omegaconf import OmegaConf\n",
    "\n",
    "from clearaudio.transforms import signal\n",
    "from clearaudio.datasets import audio\n",
    "from clearaudio.utils.utils import print_stats, play_audio_vscode\n",
    "from clearaudio.viz import plots\n",
    "from clearaudio import generate_wavenet\n",
    "\n",
    "plt.style.use('dark_background')\n",
    "[width, height] = matplotlib.rcParams['figure.figsize']\n",
    "if width < 10:\n",
    "  matplotlib.rcParams['figure.figsize'] = [width * 2.5, height]\n",
    "\n",
    "LOG = logging.getLogger(__name__)\n"
   ]
  },
  {
   "cell_type": "code",
   "execution_count": 4,
   "metadata": {},
   "outputs": [],
   "source": [
    "def load_checkpoint_data(checkpoint_path: str):\n",
    "    ckp = Path(checkpoint_path).expanduser()\n",
    "    if not ckp.exists():\n",
    "        LOG.error('Checkpoint not found.')\n",
    "        return None\n",
    "\n",
    "    ckp = torch.load(ckp)    \n",
    "    return ckp\n",
    "\n",
    "\n",
    "def get_config_from_chekckpoint_or_def(checkpoint_path: str, \n",
    "    dataset_name: str = 'tan_scitas', \n",
    "    trainer_name: str = \"tan_wavenet_scitas\",\n",
    "    generator_name: str = \"tan_generator\"):\n",
    "\n",
    "    ckp = load_checkpoint_data(checkpoint_path)\n",
    "    cfg = None\n",
    "    # override current config with internal config from the checkpoint\n",
    "    if 'config' not in ckp:\n",
    "        conf_path = str(Path(os.getcwd()).resolve() / \"clearaudio\" / \"conf\")\n",
    "        with initialize_config_dir(config_dir=conf_path, job_name=\"test_app\"):\n",
    "            cfg = compose(config_name=\"config\", \n",
    "                          overrides=[f\"dataset={dataset_name}\", \n",
    "                            f\"trainer={trainer_name}\", f\"generator={generator_name}\"\n",
    "                        ])\n",
    "    else:\n",
    "        cfg = OmegaConf.create(ckp['config'])\n",
    "\n",
    "    return cfg, ckp\n",
    "\n",
    "def get_eq_transform(cfg: DictConfig, eq_name: str = '0', subset_mode: str = 'train'):\n",
    "    transforms = signal.SoxEffectTransform.from_config(cfg)\n",
    "    eq_transform = list(filter(lambda x: x.name == eq_name, transforms[subset_mode or 'train']))\n",
    "\n",
    "    if not eq_transform:\n",
    "        LOG.error(f\"{eq_name} not found in config: \\n {cfg.dataset.low_quality_effect}\")\n",
    "        return None\n",
    "    \n",
    "    return eq_transform[0]\n",
    "\n",
    "\n",
    "def create_lq_song_from_eq(song_path: str, output_folder: str, eq: signal.SoxEffectTransform):\n",
    "    \"\"\"Create low quality version of song using training EQs\"\"\"\n",
    "    return Path(eq.process_file(song_path, output_folder, override=True))\n",
    "\n"
   ]
  },
  {
   "cell_type": "code",
   "execution_count": 7,
   "metadata": {},
   "outputs": [],
   "source": [
    "chkp = \"~/test_data/audio/tanbur/checkpoint_epoch_6_meq.pt\"\n",
    "cfg, ckp = get_config_from_chekckpoint_or_def(chkp)\n"
   ]
  },
  {
   "cell_type": "code",
   "execution_count": 9,
   "metadata": {},
   "outputs": [
    {
     "name": "stdout",
     "output_type": "stream",
     "text": [
      "Last activation :  Mish()\n"
     ]
    },
    {
     "name": "stderr",
     "output_type": "stream",
     "text": [
      "0it [00:00, ?it/s]/home/kikohs/.cache/pypoetry/virtualenvs/clearaudio-XI8_gnIE-py3.8/lib/python3.8/site-packages/torch/nn/modules/conv.py:297: UserWarning: Using padding='same' with even kernel lengths and odd dilation may require a zero-padded copy of the input be created (Triggered internally at  ../aten/src/ATen/native/Convolution.cpp:647.)\n",
      "  return F.conv1d(input, weight, bias, self.stride,\n",
      "189it [01:16,  2.47it/s]\n"
     ]
    },
    {
     "name": "stdout",
     "output_type": "stream",
     "text": [
      "Last activation :  Mish()\n"
     ]
    },
    {
     "name": "stderr",
     "output_type": "stream",
     "text": [
      "181it [01:13,  2.46it/s]\n"
     ]
    },
    {
     "name": "stdout",
     "output_type": "stream",
     "text": [
      "Last activation :  Mish()\n"
     ]
    },
    {
     "name": "stderr",
     "output_type": "stream",
     "text": [
      "189it [01:16,  2.46it/s]\n"
     ]
    },
    {
     "name": "stdout",
     "output_type": "stream",
     "text": [
      "Last activation :  Mish()\n"
     ]
    },
    {
     "name": "stderr",
     "output_type": "stream",
     "text": [
      "181it [01:13,  2.46it/s]\n"
     ]
    },
    {
     "name": "stdout",
     "output_type": "stream",
     "text": [
      "Last activation :  Mish()\n"
     ]
    },
    {
     "name": "stderr",
     "output_type": "stream",
     "text": [
      "189it [01:19,  2.39it/s]\n"
     ]
    },
    {
     "name": "stdout",
     "output_type": "stream",
     "text": [
      "Last activation :  Mish()\n"
     ]
    },
    {
     "name": "stderr",
     "output_type": "stream",
     "text": [
      "181it [01:15,  2.39it/s]\n"
     ]
    },
    {
     "name": "stdout",
     "output_type": "stream",
     "text": [
      "Last activation :  Mish()\n"
     ]
    },
    {
     "name": "stderr",
     "output_type": "stream",
     "text": [
      "189it [01:18,  2.41it/s]\n"
     ]
    },
    {
     "name": "stdout",
     "output_type": "stream",
     "text": [
      "Last activation :  Mish()\n"
     ]
    },
    {
     "name": "stderr",
     "output_type": "stream",
     "text": [
      "181it [01:14,  2.44it/s]\n"
     ]
    },
    {
     "name": "stdout",
     "output_type": "stream",
     "text": [
      "Last activation :  Mish()\n"
     ]
    },
    {
     "name": "stderr",
     "output_type": "stream",
     "text": [
      "189it [01:17,  2.45it/s]\n"
     ]
    },
    {
     "name": "stdout",
     "output_type": "stream",
     "text": [
      "Last activation :  Mish()\n"
     ]
    },
    {
     "name": "stderr",
     "output_type": "stream",
     "text": [
      "181it [01:13,  2.46it/s]\n"
     ]
    },
    {
     "name": "stdout",
     "output_type": "stream",
     "text": [
      "Last activation :  Mish()\n"
     ]
    },
    {
     "name": "stderr",
     "output_type": "stream",
     "text": [
      "189it [01:17,  2.44it/s]\n"
     ]
    },
    {
     "name": "stdout",
     "output_type": "stream",
     "text": [
      "Last activation :  Mish()\n"
     ]
    },
    {
     "name": "stderr",
     "output_type": "stream",
     "text": [
      "181it [01:14,  2.43it/s]\n"
     ]
    },
    {
     "name": "stdout",
     "output_type": "stream",
     "text": [
      "Last activation :  Mish()\n"
     ]
    },
    {
     "name": "stderr",
     "output_type": "stream",
     "text": [
      "189it [01:18,  2.42it/s]\n"
     ]
    },
    {
     "name": "stdout",
     "output_type": "stream",
     "text": [
      "Last activation :  Mish()\n"
     ]
    },
    {
     "name": "stderr",
     "output_type": "stream",
     "text": [
      "181it [01:15,  2.41it/s]\n"
     ]
    },
    {
     "name": "stdout",
     "output_type": "stream",
     "text": [
      "Last activation :  Mish()\n"
     ]
    },
    {
     "name": "stderr",
     "output_type": "stream",
     "text": [
      "189it [01:17,  2.43it/s]\n"
     ]
    },
    {
     "name": "stdout",
     "output_type": "stream",
     "text": [
      "Last activation :  Mish()\n"
     ]
    },
    {
     "name": "stderr",
     "output_type": "stream",
     "text": [
      "181it [01:14,  2.43it/s]\n"
     ]
    },
    {
     "name": "stdout",
     "output_type": "stream",
     "text": [
      "Last activation :  Mish()\n"
     ]
    },
    {
     "name": "stderr",
     "output_type": "stream",
     "text": [
      "189it [01:17,  2.43it/s]\n"
     ]
    },
    {
     "name": "stdout",
     "output_type": "stream",
     "text": [
      "Last activation :  Mish()\n"
     ]
    },
    {
     "name": "stderr",
     "output_type": "stream",
     "text": [
      "181it [01:15,  2.41it/s]\n"
     ]
    },
    {
     "name": "stdout",
     "output_type": "stream",
     "text": [
      "Last activation :  Mish()\n"
     ]
    },
    {
     "name": "stderr",
     "output_type": "stream",
     "text": [
      "189it [01:19,  2.38it/s]\n"
     ]
    },
    {
     "name": "stdout",
     "output_type": "stream",
     "text": [
      "Last activation :  Mish()\n"
     ]
    },
    {
     "name": "stderr",
     "output_type": "stream",
     "text": [
      "181it [01:15,  2.39it/s]\n"
     ]
    }
   ],
   "source": [
    "# Create LQ version\n",
    "for i in range(0, 10):\n",
    "    eq = get_eq_transform(cfg, str(i))\n",
    "    song1 = '~/data/audio/tanbur/DC44k/31 Zekrs_1.wav'\n",
    "    song2 = '~/data/audio/tanbur/DC44k/18 Yadegari_1.wav'\n",
    "    output_dir = Path(\"~/data/audio/tanbur/2022_03_24\")\n",
    "    lq_song_path = create_lq_song_from_eq(song1, output_dir, eq)\n",
    "    generate_wavenet.generate(lq_song_path, output_dir, cfg, ckp)\n",
    "    lq_song_path = create_lq_song_from_eq(song2, output_dir, eq)\n",
    "    generate_wavenet.generate(lq_song_path, output_dir, cfg, ckp)"
   ]
  },
  {
   "cell_type": "code",
   "execution_count": 56,
   "metadata": {},
   "outputs": [
    {
     "name": "stdout",
     "output_type": "stream",
     "text": [
      "Last activation :  Mish()\n"
     ]
    },
    {
     "name": "stderr",
     "output_type": "stream",
     "text": [
      "181it [02:40,  1.13it/s]\n"
     ]
    }
   ],
   "source": [
    "generate_wavenet.generate(lq_song_path, output_dir, cfg, ckp)"
   ]
  }
 ],
 "metadata": {
  "interpreter": {
   "hash": "c474beed839b5163f94f09e816aed31ae36fb6fd2fd06835b088c730bfe230d7"
  },
  "kernelspec": {
   "display_name": "Python 3.8.10 ('clearaudio-XI8_gnIE-py3.8')",
   "language": "python",
   "name": "python3"
  },
  "language_info": {
   "codemirror_mode": {
    "name": "ipython",
    "version": 3
   },
   "file_extension": ".py",
   "mimetype": "text/x-python",
   "name": "python",
   "nbconvert_exporter": "python",
   "pygments_lexer": "ipython3",
   "version": "3.8.10"
  },
  "orig_nbformat": 4
 },
 "nbformat": 4,
 "nbformat_minor": 2
}
